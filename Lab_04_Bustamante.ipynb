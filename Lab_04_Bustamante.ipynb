{
  "nbformat": 4,
  "nbformat_minor": 0,
  "metadata": {
    "colab": {
      "provenance": [],
      "authorship_tag": "ABX9TyMfXQfHCupTzaKR6CK9IrfR",
      "include_colab_link": true
    },
    "kernelspec": {
      "name": "python3",
      "display_name": "Python 3"
    },
    "language_info": {
      "name": "python"
    }
  },
  "cells": [
    {
      "cell_type": "markdown",
      "metadata": {
        "id": "view-in-github",
        "colab_type": "text"
      },
      "source": [
        "<a href=\"https://colab.research.google.com/github/JuanBustamante107517/Lab_08_Bustamante_G/blob/main/Lab_04_Bustamante.ipynb\" target=\"_parent\"><img src=\"https://colab.research.google.com/assets/colab-badge.svg\" alt=\"Open In Colab\"/></a>"
      ]
    },
    {
      "cell_type": "code",
      "execution_count": 1,
      "metadata": {
        "colab": {
          "base_uri": "https://localhost:8080/"
        },
        "id": "A72RC5zWMQta",
        "outputId": "a28d3038-559f-4c3f-fd46-86e573028c2f"
      },
      "outputs": [
        {
          "output_type": "stream",
          "name": "stdout",
          "text": [
            "Collecting ucimlrepo\n",
            "  Downloading ucimlrepo-0.0.7-py3-none-any.whl.metadata (5.5 kB)\n",
            "Requirement already satisfied: pandas>=1.0.0 in /usr/local/lib/python3.11/dist-packages (from ucimlrepo) (2.2.2)\n",
            "Requirement already satisfied: certifi>=2020.12.5 in /usr/local/lib/python3.11/dist-packages (from ucimlrepo) (2025.4.26)\n",
            "Requirement already satisfied: numpy>=1.23.2 in /usr/local/lib/python3.11/dist-packages (from pandas>=1.0.0->ucimlrepo) (2.0.2)\n",
            "Requirement already satisfied: python-dateutil>=2.8.2 in /usr/local/lib/python3.11/dist-packages (from pandas>=1.0.0->ucimlrepo) (2.9.0.post0)\n",
            "Requirement already satisfied: pytz>=2020.1 in /usr/local/lib/python3.11/dist-packages (from pandas>=1.0.0->ucimlrepo) (2025.2)\n",
            "Requirement already satisfied: tzdata>=2022.7 in /usr/local/lib/python3.11/dist-packages (from pandas>=1.0.0->ucimlrepo) (2025.2)\n",
            "Requirement already satisfied: six>=1.5 in /usr/local/lib/python3.11/dist-packages (from python-dateutil>=2.8.2->pandas>=1.0.0->ucimlrepo) (1.17.0)\n",
            "Downloading ucimlrepo-0.0.7-py3-none-any.whl (8.0 kB)\n",
            "Installing collected packages: ucimlrepo\n",
            "Successfully installed ucimlrepo-0.0.7\n"
          ]
        }
      ],
      "source": [
        "pip install ucimlrepo"
      ]
    },
    {
      "cell_type": "code",
      "source": [
        "from ucimlrepo import fetch_ucirepo\n",
        "\n",
        "# fetch dataset\n",
        "breast_cancer_wisconsin_original = fetch_ucirepo(id=15)\n",
        "\n",
        "# data (as pandas dataframes)\n",
        "X = breast_cancer_wisconsin_original.data.features\n",
        "y = breast_cancer_wisconsin_original.data.targets\n",
        "\n",
        "# metadata\n",
        "print(breast_cancer_wisconsin_original.metadata)\n",
        "\n",
        "# variable information\n",
        "print(breast_cancer_wisconsin_original.variables)\n"
      ],
      "metadata": {
        "colab": {
          "base_uri": "https://localhost:8080/"
        },
        "id": "x27MhDYwMv0h",
        "outputId": "eae74b91-b04e-4459-832b-b04e48273782"
      },
      "execution_count": 2,
      "outputs": [
        {
          "output_type": "stream",
          "name": "stdout",
          "text": [
            "{'uci_id': 15, 'name': 'Breast Cancer Wisconsin (Original)', 'repository_url': 'https://archive.ics.uci.edu/dataset/15/breast+cancer+wisconsin+original', 'data_url': 'https://archive.ics.uci.edu/static/public/15/data.csv', 'abstract': 'Original Wisconsin Breast Cancer Database', 'area': 'Health and Medicine', 'tasks': ['Classification'], 'characteristics': ['Multivariate'], 'num_instances': 699, 'num_features': 9, 'feature_types': ['Integer'], 'demographics': [], 'target_col': ['Class'], 'index_col': ['Sample_code_number'], 'has_missing_values': 'yes', 'missing_values_symbol': 'NaN', 'year_of_dataset_creation': 1990, 'last_updated': 'Sun Mar 10 2024', 'dataset_doi': '10.24432/C5HP4Z', 'creators': ['WIlliam Wolberg'], 'intro_paper': None, 'additional_info': {'summary': \"Samples arrive periodically as Dr. Wolberg reports his clinical cases. The database therefore reflects this chronological grouping of the data. This grouping information appears immediately below, having been removed from the data itself:\\r\\n\\r\\nGroup 1: 367 instances (January 1989)\\r\\nGroup 2:  70 instances (October 1989)\\r\\nGroup 3:  31 instances (February 1990)\\r\\nGroup 4:  17 instances (April 1990)\\r\\nGroup 5:  48 instances (August 1990)\\r\\nGroup 6:  49 instances (Updated January 1991)\\r\\nGroup 7:  31 instances (June 1991)\\r\\nGroup 8:  86 instances (November 1991)\\r\\n-----------------------------------------\\r\\nTotal:   699 points (as of the donated datbase on 15 July 1992)\\r\\n\\r\\nNote that the results summarized above in Past Usage refer to a dataset of size 369, while Group 1 has only 367 instances.  This is because it originally contained 369 instances; 2 were removed.  The following statements summarizes changes to the original Group 1's set of data:\\r\\n\\r\\n#####  Group 1 : 367 points: 200B 167M (January 1989)\\r\\n\\r\\n#####  Revised Jan 10, 1991: Replaced zero bare nuclei in 1080185 & 1187805\\r\\n\\r\\n#####  Revised Nov 22,1991: Removed 765878,4,5,9,7,10,10,10,3,8,1 no record\\r\\n#####                  : Removed 484201,2,7,8,8,4,3,10,3,4,1 zero epithelial\\r\\n#####                  : Changed 0 to 1 in field 6 of sample 1219406\\r\\n#####                  : Changed 0 to 1 in field 8 of following sample:\\r\\n#####                  : 1182404,2,3,1,1,1,2,0,1,1,1\", 'purpose': None, 'funded_by': None, 'instances_represent': None, 'recommended_data_splits': None, 'sensitive_data': None, 'preprocessing_description': None, 'variable_info': '1. Sample code number:            id number\\r\\n2. Clump Thickness:               1 - 10\\r\\n3. Uniformity of Cell Size:       1 - 10\\r\\n4. Uniformity of Cell Shape:      1 - 10\\r\\n5. Marginal Adhesion:             1 - 10\\r\\n6. Single Epithelial Cell Size:   1 - 10\\r\\n7. Bare Nuclei:                   1 - 10\\r\\n8. Bland Chromatin:               1 - 10\\r\\n9. Normal Nucleoli:               1 - 10\\r\\n10. Mitoses:                       1 - 10\\r\\n11. Class:                        (2 for benign, 4 for malignant)', 'citation': 'This breast cancer databases was obtained from the University of Wisconsin Hospitals, Madison from Dr. William H. Wolberg.  If you publish results when using this database, then please include this information in your acknowledgements.  Also, please cite one or more of:\\n1. O. L. Mangasarian and W. H. Wolberg: \"Cancer diagnosis via linear programming\", SIAM News, Volume 23, Number 5, September 1990, pp 1 & 18.\\n2. William H. Wolberg and O.L. Mangasarian: \"Multisurface method of pattern separation for medical diagnosis applied to breast cytology\", Proceedings of the National Academy of Sciences, U.S.A., Volume 87, December 1990, pp 9193-9196.\\n3. O. L. Mangasarian, R. Setiono, and W.H. Wolberg: \"Pattern recognition via linear programming: Theory and application to medical diagnosis\", in: \"Large-scale numerical optimization\", Thomas F. Coleman and Yuying Li, editors, SIAM Publications, Philadelphia 1990, pp 22-30.\\n4. K. P. Bennett & O. L. Mangasarian: \"Robust linear programming discrimination of two linearly inseparable sets\", Optimization Methods and Software 1, 1992, 23-34 (Gordon & Breach Science Publishers).'}}\n",
            "                           name     role         type demographic  \\\n",
            "0            Sample_code_number       ID  Categorical        None   \n",
            "1               Clump_thickness  Feature      Integer        None   \n",
            "2       Uniformity_of_cell_size  Feature      Integer        None   \n",
            "3      Uniformity_of_cell_shape  Feature      Integer        None   \n",
            "4             Marginal_adhesion  Feature      Integer        None   \n",
            "5   Single_epithelial_cell_size  Feature      Integer        None   \n",
            "6                   Bare_nuclei  Feature      Integer        None   \n",
            "7               Bland_chromatin  Feature      Integer        None   \n",
            "8               Normal_nucleoli  Feature      Integer        None   \n",
            "9                       Mitoses  Feature      Integer        None   \n",
            "10                        Class   Target       Binary        None   \n",
            "\n",
            "                  description units missing_values  \n",
            "0                        None  None             no  \n",
            "1                        None  None             no  \n",
            "2                        None  None             no  \n",
            "3                        None  None             no  \n",
            "4                        None  None             no  \n",
            "5                        None  None             no  \n",
            "6                        None  None            yes  \n",
            "7                        None  None             no  \n",
            "8                        None  None             no  \n",
            "9                        None  None             no  \n",
            "10  2 = benign, 4 = malignant  None             no  \n"
          ]
        }
      ]
    },
    {
      "cell_type": "code",
      "source": [
        "import pandas as pd\n",
        "import numpy as np"
      ],
      "metadata": {
        "id": "ZgzU6MvgMycx"
      },
      "execution_count": 3,
      "outputs": []
    },
    {
      "cell_type": "markdown",
      "source": [
        "### a. Por medio de la librería ‘Pandas’, lea la base de datos, asigne nombres para las columnas,realice una imputación para la variable ‘Bare Nuclei’ por medio de la mediana y cambie las categorías para la variable ‘Class’ de 2 o 4 por 0 o 1."
      ],
      "metadata": {
        "id": "-Rr-GbnsNW6g"
      }
    },
    {
      "cell_type": "code",
      "source": [
        "# Ya tienes X (features) y y (target) cargados desde ucimlrepo\n",
        "# Verificamos las columnas:\n",
        "print(\"Columnas disponibles en X:\")\n",
        "print(X.columns)"
      ],
      "metadata": {
        "colab": {
          "base_uri": "https://localhost:8080/"
        },
        "id": "8ZOGMXOYNYFH",
        "outputId": "16e2d735-5aed-4fe5-c327-32864e874ef7"
      },
      "execution_count": 4,
      "outputs": [
        {
          "output_type": "stream",
          "name": "stdout",
          "text": [
            "Columnas disponibles en X:\n",
            "Index(['Clump_thickness', 'Uniformity_of_cell_size',\n",
            "       'Uniformity_of_cell_shape', 'Marginal_adhesion',\n",
            "       'Single_epithelial_cell_size', 'Bare_nuclei', 'Bland_chromatin',\n",
            "       'Normal_nucleoli', 'Mitoses'],\n",
            "      dtype='object')\n"
          ]
        }
      ]
    },
    {
      "cell_type": "code",
      "source": [
        "# Aseguramos que 'Bare_Nuclei' esté como numérico\n",
        "X['Bare_nuclei'] = pd.to_numeric(X['Bare_nuclei'], errors='coerce')\n",
        "\n"
      ],
      "metadata": {
        "colab": {
          "base_uri": "https://localhost:8080/"
        },
        "id": "mZg7R4oUNaWg",
        "outputId": "386adf80-a92b-40a9-db51-9770a78509bf"
      },
      "execution_count": 6,
      "outputs": [
        {
          "output_type": "stream",
          "name": "stderr",
          "text": [
            "<ipython-input-6-4c78f68fbf6c>:2: SettingWithCopyWarning: \n",
            "A value is trying to be set on a copy of a slice from a DataFrame.\n",
            "Try using .loc[row_indexer,col_indexer] = value instead\n",
            "\n",
            "See the caveats in the documentation: https://pandas.pydata.org/pandas-docs/stable/user_guide/indexing.html#returning-a-view-versus-a-copy\n",
            "  X['Bare_nuclei'] = pd.to_numeric(X['Bare_nuclei'], errors='coerce')\n"
          ]
        }
      ]
    },
    {
      "cell_type": "code",
      "source": [
        "# Imputación de la mediana para 'Bare_Nuclei'\n",
        "X['Bare_nuclei'].fillna(X['Bare_nuclei'].median(), inplace=True)"
      ],
      "metadata": {
        "colab": {
          "base_uri": "https://localhost:8080/"
        },
        "id": "nPns3_U6N6Dn",
        "outputId": "230ab061-9dcd-41d9-b1fb-1d33e6332529"
      },
      "execution_count": 7,
      "outputs": [
        {
          "output_type": "stream",
          "name": "stderr",
          "text": [
            "<ipython-input-7-25c2a6e44435>:1: FutureWarning: A value is trying to be set on a copy of a DataFrame or Series through chained assignment using an inplace method.\n",
            "The behavior will change in pandas 3.0. This inplace method will never work because the intermediate object on which we are setting values always behaves as a copy.\n",
            "\n",
            "For example, when doing 'df[col].method(value, inplace=True)', try using 'df.method({col: value}, inplace=True)' or df[col] = df[col].method(value) instead, to perform the operation inplace on the original object.\n",
            "\n",
            "\n",
            "  X['Bare_nuclei'].fillna(X['Bare_nuclei'].median(), inplace=True)\n",
            "<ipython-input-7-25c2a6e44435>:1: SettingWithCopyWarning: \n",
            "A value is trying to be set on a copy of a slice from a DataFrame\n",
            "\n",
            "See the caveats in the documentation: https://pandas.pydata.org/pandas-docs/stable/user_guide/indexing.html#returning-a-view-versus-a-copy\n",
            "  X['Bare_nuclei'].fillna(X['Bare_nuclei'].median(), inplace=True)\n"
          ]
        }
      ]
    },
    {
      "cell_type": "code",
      "source": [
        "# Verificamos los valores únicos antes de cambiar en y\n",
        "print(\"Valores originales en y:\")\n",
        "print(y['Class'].value_counts())"
      ],
      "metadata": {
        "colab": {
          "base_uri": "https://localhost:8080/"
        },
        "id": "D-vX95zUN-T-",
        "outputId": "297ea032-c1ca-404d-bed9-ad4c56860ad5"
      },
      "execution_count": 8,
      "outputs": [
        {
          "output_type": "stream",
          "name": "stdout",
          "text": [
            "Valores originales en y:\n",
            "Class\n",
            "2    458\n",
            "4    241\n",
            "Name: count, dtype: int64\n"
          ]
        }
      ]
    },
    {
      "cell_type": "code",
      "source": [
        "# Reemplazar 2 → 0 y 4 → 1\n",
        "y['Class'] = y['Class'].replace({2: 0, 4: 1})"
      ],
      "metadata": {
        "colab": {
          "base_uri": "https://localhost:8080/"
        },
        "id": "5srDY-r_ODr3",
        "outputId": "37311321-af3f-42a9-fcc0-9eb83d89678d"
      },
      "execution_count": 9,
      "outputs": [
        {
          "output_type": "stream",
          "name": "stderr",
          "text": [
            "<ipython-input-9-12059bf629f1>:2: SettingWithCopyWarning: \n",
            "A value is trying to be set on a copy of a slice from a DataFrame.\n",
            "Try using .loc[row_indexer,col_indexer] = value instead\n",
            "\n",
            "See the caveats in the documentation: https://pandas.pydata.org/pandas-docs/stable/user_guide/indexing.html#returning-a-view-versus-a-copy\n",
            "  y['Class'] = y['Class'].replace({2: 0, 4: 1})\n"
          ]
        }
      ]
    },
    {
      "cell_type": "code",
      "source": [
        "# Verificar los cambios\n",
        "print(\"Valores nuevos en y:\")\n",
        "print(y['Class'].value_counts())"
      ],
      "metadata": {
        "colab": {
          "base_uri": "https://localhost:8080/"
        },
        "id": "bnZYZ5PeOFO_",
        "outputId": "ef3add9c-e319-4106-ab84-3d3756a1a408"
      },
      "execution_count": 10,
      "outputs": [
        {
          "output_type": "stream",
          "name": "stdout",
          "text": [
            "Valores nuevos en y:\n",
            "Class\n",
            "0    458\n",
            "1    241\n",
            "Name: count, dtype: int64\n"
          ]
        }
      ]
    },
    {
      "cell_type": "code",
      "source": [
        "# Mostrar primeras filas para confirmar\n",
        "print(X.head())\n",
        "print(y.head())"
      ],
      "metadata": {
        "colab": {
          "base_uri": "https://localhost:8080/"
        },
        "id": "mu8zq6QIOHa4",
        "outputId": "1a1bc8e5-915f-4a13-c797-6e55f36eb9b0"
      },
      "execution_count": 11,
      "outputs": [
        {
          "output_type": "stream",
          "name": "stdout",
          "text": [
            "   Clump_thickness  Uniformity_of_cell_size  Uniformity_of_cell_shape  \\\n",
            "0                5                        1                         1   \n",
            "1                5                        4                         4   \n",
            "2                3                        1                         1   \n",
            "3                6                        8                         8   \n",
            "4                4                        1                         1   \n",
            "\n",
            "   Marginal_adhesion  Single_epithelial_cell_size  Bare_nuclei  \\\n",
            "0                  1                            2          1.0   \n",
            "1                  5                            7         10.0   \n",
            "2                  1                            2          2.0   \n",
            "3                  1                            3          4.0   \n",
            "4                  3                            2          1.0   \n",
            "\n",
            "   Bland_chromatin  Normal_nucleoli  Mitoses  \n",
            "0                3                1        1  \n",
            "1                3                2        1  \n",
            "2                3                1        1  \n",
            "3                3                7        1  \n",
            "4                3                1        1  \n",
            "   Class\n",
            "0      0\n",
            "1      0\n",
            "2      0\n",
            "3      0\n",
            "4      0\n"
          ]
        }
      ]
    },
    {
      "cell_type": "markdown",
      "source": [
        "### b. Realice una detección de valores atípicos univariados por medio del método del rango intercuartílico con 3 de longitud a la derecha y 3 a la izquierda, y elimínelos. Además, realiceuna detección de valores atípicos multivariados por medio de las distancias de Mahalanobis y elimine aquellos valores que superen el valor de 30."
      ],
      "metadata": {
        "id": "5MLU0BihOJJY"
      }
    },
    {
      "cell_type": "code",
      "source": [
        "from scipy.spatial.distance import mahalanobis\n",
        "import numpy as np\n",
        "import pandas as pd"
      ],
      "metadata": {
        "id": "yy4zGoL-ONrn"
      },
      "execution_count": 12,
      "outputs": []
    },
    {
      "cell_type": "code",
      "source": [
        "# --- COPIA DEL DATASET ORIGINAL ---\n",
        "X_clean = X.copy()"
      ],
      "metadata": {
        "id": "k6ffDqSWQDOX"
      },
      "execution_count": 13,
      "outputs": []
    },
    {
      "cell_type": "code",
      "source": [
        "# --- DETECCIÓN UNIVARIADA CON IQR (rango intercuartílico) ---\n",
        "Q1 = X_clean.quantile(0.25)\n",
        "Q3 = X_clean.quantile(0.75)\n",
        "IQR = Q3 - Q1"
      ],
      "metadata": {
        "id": "LNomJSUbQEZu"
      },
      "execution_count": 14,
      "outputs": []
    },
    {
      "cell_type": "code",
      "source": [
        "# Eliminamos filas que tengan outliers en alguna columna (usando margen de 3 * IQR)\n",
        "condition = ~((X_clean < (Q1 - 3 * IQR)) | (X_clean > (Q3 + 3 * IQR))).any(axis=1)\n",
        "X_iqr = X_clean[condition]\n",
        "y_iqr = y[condition]  # también filtramos y para que coincida\n",
        "print(f\"Filas después de eliminar atípicos univariados: {X_iqr.shape[0]}\")"
      ],
      "metadata": {
        "colab": {
          "base_uri": "https://localhost:8080/"
        },
        "id": "a5oVsFmUQF7O",
        "outputId": "8567a124-2602-4a06-e3c8-5a0ade426d9e"
      },
      "execution_count": 16,
      "outputs": [
        {
          "output_type": "stream",
          "name": "stdout",
          "text": [
            "Filas después de eliminar atípicos univariados: 579\n"
          ]
        }
      ]
    },
    {
      "cell_type": "code",
      "source": [
        "from scipy.spatial.distance import mahalanobis\n",
        "import numpy as np\n",
        "\n",
        "# --- DETECCIÓN MULTIVARIADA CON MAHALANOBIS usando pseudo-inversa ---\n",
        "mean_vec = X_iqr.mean().values\n",
        "cov_matrix = np.cov(X_iqr.values, rowvar=False)\n",
        "inv_cov_matrix = np.linalg.pinv(cov_matrix)  # ← cambio aquí\n",
        "\n",
        "mahal_distances = X_iqr.apply(lambda row: mahalanobis(row, mean_vec, inv_cov_matrix), axis=1)\n"
      ],
      "metadata": {
        "id": "Z49ZvbhFQHjm"
      },
      "execution_count": 18,
      "outputs": []
    },
    {
      "cell_type": "code",
      "source": [
        "# Filtro por umbral\n",
        "mask_mahal = mahal_distances <= 30\n",
        "X_final = X_iqr[mask_mahal]\n",
        "y_final = y_iqr[mask_mahal]\n",
        "\n",
        "print(f\"Filas después de limpieza multivariada (Mahalanobis): {X_final.shape[0]}\")"
      ],
      "metadata": {
        "colab": {
          "base_uri": "https://localhost:8080/"
        },
        "id": "b5rec4C5QgM2",
        "outputId": "2bcd4778-39cd-461b-d963-74b230dd52e8"
      },
      "execution_count": 19,
      "outputs": [
        {
          "output_type": "stream",
          "name": "stdout",
          "text": [
            "Filas después de limpieza multivariada (Mahalanobis): 579\n"
          ]
        }
      ]
    },
    {
      "cell_type": "markdown",
      "source": [
        "### c. Realice un cálculo de los principales estadísticos descriptivos para las variables predictoras y cree dos conjuntos de datos: uno en donde se aplique la transformación Z-score y otro en donde se aplique la normalización mín-máx, sobre todas las variables predictoras."
      ],
      "metadata": {
        "id": "2YssPPVLQ31-"
      }
    },
    {
      "cell_type": "code",
      "source": [
        "from sklearn.preprocessing import StandardScaler, MinMaxScaler\n"
      ],
      "metadata": {
        "id": "49I_Pj76Q6b2"
      },
      "execution_count": 20,
      "outputs": []
    },
    {
      "cell_type": "code",
      "source": [
        "# Asegúrate de que todas las columnas sean numéricas\n",
        "X_numeric = X.apply(pd.to_numeric, errors='coerce')"
      ],
      "metadata": {
        "id": "H0Y9EnlxRMxF"
      },
      "execution_count": 21,
      "outputs": []
    },
    {
      "cell_type": "code",
      "source": [
        "# ⚠️ Validamos si hay valores nulos antes de transformar\n",
        "print(\"¿Hay valores nulos?:\")\n",
        "print(X_numeric.isnull().sum())"
      ],
      "metadata": {
        "colab": {
          "base_uri": "https://localhost:8080/"
        },
        "id": "KuDdeCnOROS1",
        "outputId": "e32e019e-8314-40d9-a449-845a38f35631"
      },
      "execution_count": 22,
      "outputs": [
        {
          "output_type": "stream",
          "name": "stdout",
          "text": [
            "¿Hay valores nulos?:\n",
            "Clump_thickness                0\n",
            "Uniformity_of_cell_size        0\n",
            "Uniformity_of_cell_shape       0\n",
            "Marginal_adhesion              0\n",
            "Single_epithelial_cell_size    0\n",
            "Bare_nuclei                    0\n",
            "Bland_chromatin                0\n",
            "Normal_nucleoli                0\n",
            "Mitoses                        0\n",
            "dtype: int64\n"
          ]
        }
      ]
    },
    {
      "cell_type": "code",
      "source": [
        "# Si los hay, imputamos con la media (podrías usar median si prefieres)\n",
        "X_numeric.fillna(X_numeric.mean(), inplace=True)"
      ],
      "metadata": {
        "id": "1O24-jW4RPyW"
      },
      "execution_count": 23,
      "outputs": []
    },
    {
      "cell_type": "code",
      "source": [
        "# 🔹 Transformación Z-score\n",
        "scaler_z = StandardScaler()\n",
        "X_zscore = pd.DataFrame(scaler_z.fit_transform(X_numeric), columns=X.columns)"
      ],
      "metadata": {
        "id": "KEjC-i86RRL3"
      },
      "execution_count": 24,
      "outputs": []
    },
    {
      "cell_type": "code",
      "source": [
        "# 🔹 Normalización Min-Máx\n",
        "scaler_minmax = MinMaxScaler()\n",
        "X_minmax = pd.DataFrame(scaler_minmax.fit_transform(X_numeric), columns=X.columns)"
      ],
      "metadata": {
        "id": "_s4qrfVfRSe1"
      },
      "execution_count": 25,
      "outputs": []
    },
    {
      "cell_type": "code",
      "source": [
        "# 🔍 Mostramos resumen\n",
        "print(\"\\n📌 Primeras filas del conjunto Z-score:\")\n",
        "print(X_zscore.head())\n",
        "\n",
        "print(\"\\n📌 Primeras filas del conjunto Min-Máx:\")\n",
        "print(X_minmax.head())"
      ],
      "metadata": {
        "id": "vTgr5pmQRT1e",
        "outputId": "026d6a85-308e-48e5-85ae-3ff5d4f41657",
        "colab": {
          "base_uri": "https://localhost:8080/"
        }
      },
      "execution_count": 26,
      "outputs": [
        {
          "output_type": "stream",
          "name": "stdout",
          "text": [
            "\n",
            "📌 Primeras filas del conjunto Z-score:\n",
            "   Clump_thickness  Uniformity_of_cell_size  Uniformity_of_cell_shape  \\\n",
            "0         0.206936                -0.699995                 -0.743299   \n",
            "1         0.206936                 0.283845                  0.266875   \n",
            "2        -0.503866                -0.699995                 -0.743299   \n",
            "3         0.562336                 1.595632                  1.613773   \n",
            "4        -0.148465                -0.699995                 -0.743299   \n",
            "\n",
            "   Marginal_adhesion  Single_epithelial_cell_size  Bare_nuclei  \\\n",
            "0          -0.633247                    -0.549561    -0.686979   \n",
            "1           0.768621                     1.710106     1.799664   \n",
            "2          -0.633247                    -0.549561    -0.410685   \n",
            "3          -0.633247                    -0.097628     0.141902   \n",
            "4           0.067687                    -0.549561    -0.686979   \n",
            "\n",
            "   Bland_chromatin  Normal_nucleoli   Mitoses  \n",
            "0        -0.179662        -0.611825 -0.343912  \n",
            "1        -0.179662        -0.284112 -0.343912  \n",
            "2        -0.179662        -0.611825 -0.343912  \n",
            "3        -0.179662         1.354454 -0.343912  \n",
            "4        -0.179662        -0.611825 -0.343912  \n",
            "\n",
            "📌 Primeras filas del conjunto Min-Máx:\n",
            "   Clump_thickness  Uniformity_of_cell_size  Uniformity_of_cell_shape  \\\n",
            "0         0.444444                 0.000000                  0.000000   \n",
            "1         0.444444                 0.333333                  0.333333   \n",
            "2         0.222222                 0.000000                  0.000000   \n",
            "3         0.555556                 0.777778                  0.777778   \n",
            "4         0.333333                 0.000000                  0.000000   \n",
            "\n",
            "   Marginal_adhesion  Single_epithelial_cell_size  Bare_nuclei  \\\n",
            "0           0.000000                     0.111111     0.000000   \n",
            "1           0.444444                     0.666667     1.000000   \n",
            "2           0.000000                     0.111111     0.111111   \n",
            "3           0.000000                     0.222222     0.333333   \n",
            "4           0.222222                     0.111111     0.000000   \n",
            "\n",
            "   Bland_chromatin  Normal_nucleoli  Mitoses  \n",
            "0         0.222222         0.000000      0.0  \n",
            "1         0.222222         0.111111      0.0  \n",
            "2         0.222222         0.000000      0.0  \n",
            "3         0.222222         0.666667      0.0  \n",
            "4         0.222222         0.000000      0.0  \n"
          ]
        }
      ]
    }
  ]
}